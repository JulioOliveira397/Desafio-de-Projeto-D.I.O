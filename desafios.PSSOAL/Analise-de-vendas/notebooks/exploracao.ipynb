{
 "cells": [
  {
   "cell_type": "code",
   "execution_count": 1,
   "id": "7871c3c2",
   "metadata": {},
   "outputs": [
    {
     "name": "stdout",
     "output_type": "stream",
     "text": [
      "  produto   categoria  valor  quantidade cliente_id\n",
      "0   Tênis    Calçados  299.9           2       C001\n",
      "1  Camisa      Roupas  149.9           1       C002\n",
      "2   Tênis    Calçados  299.9           1       C003\n",
      "3   Calça      Roupas  199.9           2       C001\n",
      "4    Boné  Acessórios   89.9           3       C004\n",
      "<class 'pandas.core.frame.DataFrame'>\n",
      "RangeIndex: 5 entries, 0 to 4\n",
      "Data columns (total 5 columns):\n",
      " #   Column      Non-Null Count  Dtype  \n",
      "---  ------      --------------  -----  \n",
      " 0   produto     5 non-null      object \n",
      " 1   categoria   5 non-null      object \n",
      " 2   valor       5 non-null      float64\n",
      " 3   quantidade  5 non-null      int64  \n",
      " 4   cliente_id  5 non-null      object \n",
      "dtypes: float64(1), int64(1), object(3)\n",
      "memory usage: 332.0+ bytes\n",
      "None\n",
      "       produto categoria       valor  quantidade cliente_id\n",
      "count        5         5    5.000000     5.00000          5\n",
      "unique       4         3         NaN         NaN          4\n",
      "top      Tênis  Calçados         NaN         NaN       C001\n",
      "freq         2         2         NaN         NaN          2\n",
      "mean       NaN       NaN  207.900000     1.80000        NaN\n",
      "std        NaN       NaN   92.574294     0.83666        NaN\n",
      "min        NaN       NaN   89.900000     1.00000        NaN\n",
      "25%        NaN       NaN  149.900000     1.00000        NaN\n",
      "50%        NaN       NaN  199.900000     2.00000        NaN\n",
      "75%        NaN       NaN  299.900000     2.00000        NaN\n",
      "max        NaN       NaN  299.900000     3.00000        NaN\n"
     ]
    }
   ],
   "source": [
    "##### Importando bibliotecas\n",
    "\n",
    "import pandas as pd\n",
    "\n",
    "df = pd.read_csv(\"../Data/raw/Vendas.csv\", sep=\";\", decimal=\".\", encoding=\"utf-8\")\n",
    "print(df.head())\n",
    "print(df.info())\n",
    "print(df.describe(include=\"all\"))"
   ]
  },
  {
   "cell_type": "code",
   "execution_count": 2,
   "id": "171d6137",
   "metadata": {},
   "outputs": [
    {
     "name": "stdout",
     "output_type": "stream",
     "text": [
      "  produto   categoria   valor  quantidade cliente_id\n",
      "0   Tênis    Calçados  2999.0           2       C001\n",
      "1  Camisa      Roupas  1499.0           1       C002\n",
      "2   Tênis    Calçados  2999.0           1       C003\n",
      "3   Calça      Roupas  1999.0           2       C001\n",
      "4    Boné  Acessórios   899.0           3       C004\n"
     ]
    }
   ],
   "source": [
    "##### Limpando valores\n",
    "\n",
    "import sys\n",
    "sys.path.append(\"../scripts\")\n",
    "\n",
    "from limpeza import limpar_valores\n",
    "\n",
    "df = limpar_valores(df)\n",
    "print(df.head())"
   ]
  },
  {
   "cell_type": "code",
   "execution_count": 3,
   "id": "14daea68",
   "metadata": {},
   "outputs": [
    {
     "name": "stdout",
     "output_type": "stream",
     "text": [
      "    categoria   valor\n",
      "1    Calçados  5998.0\n",
      "2      Roupas  3498.0\n",
      "0  Acessórios   899.0\n",
      "  produto  quantidade\n",
      "0    Boné           3\n",
      "3   Tênis           3\n",
      "1   Calça           2\n",
      "2  Camisa           1\n",
      "  cliente_id   valor\n",
      "0       C001  4998.0\n",
      "2       C003  2999.0\n",
      "1       C002  1499.0\n",
      "3       C004   899.0\n"
     ]
    }
   ],
   "source": [
    "##### Analisando dados\n",
    "\n",
    "import sys\n",
    "sys.path.append(\"../scripts\")\n",
    "\n",
    "from analise import faturamento_por_categoria, produtos_mais_vendidos, total_por_cliente\n",
    "\n",
    "print(faturamento_por_categoria(df))\n",
    "print(produtos_mais_vendidos(df).head(10))\n",
    "print(total_por_cliente(df).head(10))"
   ]
  },
  {
   "cell_type": "code",
   "execution_count": 4,
   "id": "b6d0a09d",
   "metadata": {},
   "outputs": [],
   "source": [
    "##### Salvando relatórios na pasta/reports\n",
    "faturamento_por_categoria(df).to_csv(\"../reports/resumo_categoria.csv\", index=False)\n",
    "produtos_mais_vendidos(df).to_csv(\"../reports/produtos_mais_vendidos.csv\", index=False)\n",
    "total_por_cliente(df).to_csv(\"../reports/total_por_cliente.csv\", index=False)\n"
   ]
  },
  {
   "cell_type": "code",
   "execution_count": 10,
   "id": "7e72675b",
   "metadata": {},
   "outputs": [
    {
     "name": "stderr",
     "output_type": "stream",
     "text": [
      "C:\\Users\\Jutty\\AppData\\Local\\Temp\\ipykernel_5108\\1003295526.py:8: FutureWarning: \n",
      "\n",
      "Passing `palette` without assigning `hue` is deprecated and will be removed in v0.14.0. Assign the `x` variable to `hue` and set `legend=False` for the same effect.\n",
      "\n",
      "  sns.barplot(x=\"categoria\", y=\"valor\", data=dados_categoria, palette=\"viridis\")\n"
     ]
    },
    {
     "data": {
      "image/png": "[encoded data removed]",
      "text/plain": [
       "<Figure size 1000x600 with 1 Axes>"
      ]
     },
     "metadata": {},
     "output_type": "display_data"
    }
   ],
   "source": [
    "dados_categoria = faturamento_por_categoria(df)\n",
    "\n",
    "import matplotlib.pyplot as plt\n",
    "import seaborn as sns\n",
    "\n",
    "sns.set(style=\"whitegrid\")\n",
    "plt.figure(figsize=(10, 6))\n",
    "sns.barplot(x=\"categoria\", y=\"valor\", data=dados_categoria, palette=\"viridis\")\n",
    "plt.title(\"Faturamento por Categoria\", fontsize=16)\n",
    "plt.xlabel(\"Categoria\")\n",
    "plt.ylabel(\"Faturamento (R$)\")\n",
    "plt.xticks(rotation=45)\n",
    "plt.tight_layout()\n",
    "plt.show()\n"
   ]
  }
 ],
 "metadata": {
  "kernelspec": {
   "display_name": "Python 3",
   "language": "python",
   "name": "python3"
  },
  "language_info": {
   "codemirror_mode": {
    "name": "ipython",
    "version": 3
   },
   "file_extension": ".py",
   "mimetype": "text/x-python",
   "name": "python",
   "nbconvert_exporter": "python",
   "pygments_lexer": "ipython3",
   "version": "3.13.5"
  }
 },
 "nbformat": 4,
 "nbformat_minor": 5
}
