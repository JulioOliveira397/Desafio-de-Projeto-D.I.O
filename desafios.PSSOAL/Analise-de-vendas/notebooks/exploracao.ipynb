{
 "cells": [
  {
   "cell_type": "code",
   "execution_count": 14,
   "id": "7871c3c2",
   "metadata": {},
   "outputs": [
    {
     "name": "stdout",
     "output_type": "stream",
     "text": [
      "  produto categoria   valor  quantidade cliente_id\n",
      "0   Tênis  Calçados  299,90           2       C001\n",
      "1  Camisa    Roupas  149,90           1       C002\n",
      "<class 'pandas.core.frame.DataFrame'>\n",
      "RangeIndex: 2 entries, 0 to 1\n",
      "Data columns (total 5 columns):\n",
      " #   Column      Non-Null Count  Dtype \n",
      "---  ------      --------------  ----- \n",
      " 0   produto     2 non-null      object\n",
      " 1   categoria   2 non-null      object\n",
      " 2   valor       2 non-null      object\n",
      " 3   quantidade  2 non-null      int64 \n",
      " 4   cliente_id  2 non-null      object\n",
      "dtypes: int64(1), object(4)\n",
      "memory usage: 212.0+ bytes\n",
      "None\n",
      "       produto categoria   valor  quantidade cliente_id\n",
      "count        2         2       2    2.000000          2\n",
      "unique       2         2       2         NaN          2\n",
      "top      Tênis  Calçados  299,90         NaN       C001\n",
      "freq         1         1       1         NaN          1\n",
      "mean       NaN       NaN     NaN    1.500000        NaN\n",
      "std        NaN       NaN     NaN    0.707107        NaN\n",
      "min        NaN       NaN     NaN    1.000000        NaN\n",
      "25%        NaN       NaN     NaN    1.250000        NaN\n",
      "50%        NaN       NaN     NaN    1.500000        NaN\n",
      "75%        NaN       NaN     NaN    1.750000        NaN\n",
      "max        NaN       NaN     NaN    2.000000        NaN\n"
     ]
    }
   ],
   "source": [
    "##### Importando bibliotecas\n",
    "\n",
    "import pandas as pd\n",
    "\n",
    "df = pd.read_csv(\"../Data/raw/Vendas.csv\", sep=\";\", decimal=\".\", encoding=\"utf-8\")\n",
    "print(df.head())\n",
    "print(df.info())\n",
    "print(df.describe(include=\"all\"))"
   ]
  },
  {
   "cell_type": "code",
   "execution_count": 20,
   "id": "171d6137",
   "metadata": {},
   "outputs": [
    {
     "ename": "ImportError",
     "evalue": "cannot import name 'limpar_valores' from 'limpeza' (c:\\Users\\Jutty\\Desktop\\Git Hub (DIO)\\Desafios-de-Projeto-D.I.O\\desafios.PSSOAL\\Analise-de-vendas\\notebooks\\../scripts\\limpeza.py)",
     "output_type": "error",
     "traceback": [
      "\u001b[31m---------------------------------------------------------------------------\u001b[39m",
      "\u001b[31mImportError\u001b[39m                               Traceback (most recent call last)",
      "\u001b[36mCell\u001b[39m\u001b[36m \u001b[39m\u001b[32mIn[20]\u001b[39m\u001b[32m, line 6\u001b[39m\n\u001b[32m      3\u001b[39m \u001b[38;5;28;01mimport\u001b[39;00m\u001b[38;5;250m \u001b[39m\u001b[34;01msys\u001b[39;00m\n\u001b[32m      4\u001b[39m sys.path.append(\u001b[33m\"\u001b[39m\u001b[33m../scripts\u001b[39m\u001b[33m\"\u001b[39m)\n\u001b[32m----> \u001b[39m\u001b[32m6\u001b[39m \u001b[38;5;28;01mfrom\u001b[39;00m\u001b[38;5;250m \u001b[39m\u001b[34;01mlimpeza\u001b[39;00m\u001b[38;5;250m \u001b[39m\u001b[38;5;28;01mimport\u001b[39;00m limpar_valores\n\u001b[32m      8\u001b[39m df = limpar_valores(df)\n\u001b[32m      9\u001b[39m \u001b[38;5;28mprint\u001b[39m(df.head())\n",
      "\u001b[31mImportError\u001b[39m: cannot import name 'limpar_valores' from 'limpeza' (c:\\Users\\Jutty\\Desktop\\Git Hub (DIO)\\Desafios-de-Projeto-D.I.O\\desafios.PSSOAL\\Analise-de-vendas\\notebooks\\../scripts\\limpeza.py)"
     ]
    }
   ],
   "source": [
    "##### Limpando valores\n",
    "\n",
    "import sys\n",
    "sys.path.append(\"../scripts\")\n",
    "\n",
    "from limpeza import limpar_valores\n",
    "\n",
    "df = limpar_valores(df)\n",
    "print(df.head())"
   ]
  },
  {
   "cell_type": "code",
   "execution_count": null,
   "id": "14daea68",
   "metadata": {},
   "outputs": [],
   "source": [
    "##### Analisando dados\n",
    "\n",
    "import sys\n",
    "sys.path.append(\"../scripts\")\n",
    "from analise import faturamento_por_categoria, produtos_mais_vendidos, total_por_cliente\n",
    "\n",
    "from scripts.analise import faturamento_por_categoria, produtos_mais_vendidos, total_por_cliente\n",
    "\n",
    "print(faturamento_por_categoria(df))\n",
    "print(produtos_mais_vendidos(df).head(10))\n",
    "print(total_por_cliente(df).head(10))"
   ]
  },
  {
   "cell_type": "code",
   "execution_count": null,
   "id": "b6d0a09d",
   "metadata": {},
   "outputs": [],
   "source": [
    "##### Salvando relatórios na pasta/reports\n",
    "\n",
    "faturamento_por_categoria(df).to_csv(\"reports/resumo_categoria.csv\", index=False)\n",
    "produtos_mais_vendidos(df).to_csv(\"reports/produtos_mais_vendidos.csv\", index=False)\n",
    "total_por_cliente(df).to_csv(\"reports/total_por_cliente.csv\", index=False)"
   ]
  }
 ],
 "metadata": {
  "kernelspec": {
   "display_name": "Python 3",
   "language": "python",
   "name": "python3"
  },
  "language_info": {
   "codemirror_mode": {
    "name": "ipython",
    "version": 3
   },
   "file_extension": ".py",
   "mimetype": "text/x-python",
   "name": "python",
   "nbconvert_exporter": "python",
   "pygments_lexer": "ipython3",
   "version": "3.13.5"
  }
 },
 "nbformat": 4,
 "nbformat_minor": 5
}
